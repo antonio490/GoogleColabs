{
  "nbformat": 4,
  "nbformat_minor": 0,
  "metadata": {
    "colab": {
      "name": "CNN.ipynb",
      "provenance": [],
      "collapsed_sections": [],
      "machine_shape": "hm"
    },
    "kernelspec": {
      "name": "python2",
      "display_name": "Python 2"
    },
    "accelerator": "GPU"
  },
  "cells": [
    {
      "cell_type": "code",
      "metadata": {
        "id": "Cq7viwqX-D5j",
        "colab_type": "code",
        "outputId": "09eae8d0-289b-47e0-c10f-1a2085022936",
        "colab": {
          "base_uri": "https://localhost:8080/",
          "height": 833
        }
      },
      "source": [
        "import os\n",
        "import subprocess\n",
        "\n",
        "tmpdir = '/content/tmp/' #temporal location to download and store the dataset\n",
        "\n",
        "out=subprocess.call([\"mkdir\",tmpdir]) #create a empty directory\n",
        "os.chdir(tmpdir) #move to directory\n",
        "\n",
        "!wget http://www-vpu.eps.uam.es/~jcs/pub/utils.zip -O utils.zip #download utils\n",
        "!unzip -o -q utils.zip -d . #unzip file\n",
        "\n",
        "#install software requirements (pytorch, pillow, google-drive-ocamlfuse)\n",
        "#!pip uninstall -y torch #remove any previous version\n",
        "!pip install -r ./utils/requirements_cuda.txt"
      ],
      "execution_count": 1,
      "outputs": [
        {
          "output_type": "stream",
          "text": [
            "--2020-03-28 21:09:46--  http://www-vpu.eps.uam.es/~jcs/pub/utils.zip\n",
            "Resolving www-vpu.eps.uam.es (www-vpu.eps.uam.es)... 150.244.57.170\n",
            "Connecting to www-vpu.eps.uam.es (www-vpu.eps.uam.es)|150.244.57.170|:80... connected.\n",
            "HTTP request sent, awaiting response... 200 OK\n",
            "Length: 2411 (2.4K) [application/zip]\n",
            "Saving to: ‘utils.zip’\n",
            "\n",
            "\rutils.zip             0%[                    ]       0  --.-KB/s               \rutils.zip           100%[===================>]   2.35K  --.-KB/s    in 0s      \n",
            "\n",
            "2020-03-28 21:09:46 (348 MB/s) - ‘utils.zip’ saved [2411/2411]\n",
            "\n",
            "Collecting torchvision==0.2.0\n",
            "\u001b[?25l  Downloading https://files.pythonhosted.org/packages/e9/c9/f4eb36734bffd36eb8095247d816cbe6aeca0a2b9218b78678288edfdb92/torchvision-0.2.0-py2.py3-none-any.whl (48kB)\n",
            "\u001b[K     |████████████████████████████████| 51kB 1.6MB/s \n",
            "\u001b[?25hCollecting torch==0.3.1\n",
            "\u001b[?25l  Downloading http://download.pytorch.org/whl/cu80/torch-0.3.1-cp27-cp27mu-linux_x86_64.whl (496.9MB)\n",
            "\u001b[K     |████████████████████████████████| 496.9MB 5.2MB/s \n",
            "\u001b[?25hCollecting Pillow==5.0.0\n",
            "\u001b[?25l  Downloading https://files.pythonhosted.org/packages/89/bd/1d9a10f3e8157b7df275740b0782a892a0db387f8286620110c41e5146c7/Pillow-5.0.0-cp27-cp27mu-manylinux1_x86_64.whl (5.8MB)\n",
            "\u001b[K     |████████████████████████████████| 5.9MB 3.7MB/s \n",
            "\u001b[?25hRequirement already satisfied: matplotlib in /usr/local/lib/python2.7/dist-packages (from -r ./utils/requirements_cuda.txt (line 13)) (2.2.4)\n",
            "Requirement already satisfied: six in /usr/local/lib/python2.7/dist-packages (from torchvision==0.2.0->-r ./utils/requirements_cuda.txt (line 2)) (1.12.0)\n",
            "Requirement already satisfied: numpy in /usr/local/lib/python2.7/dist-packages (from torchvision==0.2.0->-r ./utils/requirements_cuda.txt (line 2)) (1.16.4)\n",
            "Requirement already satisfied: pyyaml in /usr/local/lib/python2.7/dist-packages (from torch==0.3.1->-r ./utils/requirements_cuda.txt (line 8)) (3.13)\n",
            "Requirement already satisfied: cycler>=0.10 in /usr/local/lib/python2.7/dist-packages (from matplotlib->-r ./utils/requirements_cuda.txt (line 13)) (0.10.0)\n",
            "Requirement already satisfied: backports.functools-lru-cache in /usr/local/lib/python2.7/dist-packages (from matplotlib->-r ./utils/requirements_cuda.txt (line 13)) (1.5)\n",
            "Requirement already satisfied: subprocess32 in /usr/local/lib/python2.7/dist-packages (from matplotlib->-r ./utils/requirements_cuda.txt (line 13)) (3.5.4)\n",
            "Requirement already satisfied: kiwisolver>=1.0.1 in /usr/local/lib/python2.7/dist-packages (from matplotlib->-r ./utils/requirements_cuda.txt (line 13)) (1.1.0)\n",
            "Requirement already satisfied: pytz in /usr/local/lib/python2.7/dist-packages (from matplotlib->-r ./utils/requirements_cuda.txt (line 13)) (2018.9)\n",
            "Requirement already satisfied: python-dateutil>=2.1 in /usr/local/lib/python2.7/dist-packages (from matplotlib->-r ./utils/requirements_cuda.txt (line 13)) (2.5.3)\n",
            "Requirement already satisfied: pyparsing!=2.0.4,!=2.1.2,!=2.1.6,>=2.0.1 in /usr/local/lib/python2.7/dist-packages (from matplotlib->-r ./utils/requirements_cuda.txt (line 13)) (2.4.0)\n",
            "Requirement already satisfied: setuptools in /usr/local/lib/python2.7/dist-packages (from kiwisolver>=1.0.1->matplotlib->-r ./utils/requirements_cuda.txt (line 13)) (44.0.0)\n",
            "Installing collected packages: torch, Pillow, torchvision\n",
            "  Found existing installation: torch 1.4.0\n",
            "    Uninstalling torch-1.4.0:\n",
            "      Successfully uninstalled torch-1.4.0\n",
            "  Found existing installation: Pillow 4.3.0\n",
            "    Uninstalling Pillow-4.3.0:\n",
            "      Successfully uninstalled Pillow-4.3.0\n",
            "  Found existing installation: torchvision 0.5.0\n",
            "    Uninstalling torchvision-0.5.0:\n",
            "      Successfully uninstalled torchvision-0.5.0\n",
            "Successfully installed Pillow-5.0.0 torch-0.3.1 torchvision-0.2.0\n"
          ],
          "name": "stdout"
        },
        {
          "output_type": "display_data",
          "data": {
            "application/vnd.colab-display-data+json": {
              "pip_warning": {
                "packages": [
                  "PIL"
                ]
              }
            }
          },
          "metadata": {
            "tags": []
          }
        }
      ]
    },
    {
      "cell_type": "markdown",
      "metadata": {
        "id": "yVfvPFXOV_2j",
        "colab_type": "text"
      },
      "source": [
        "\n",
        "A lo largo del código utilizaremos una condición para indicar si se realiza el cálculo con GPU o CPU"
      ]
    },
    {
      "cell_type": "code",
      "metadata": {
        "id": "YPvF235EUZUD",
        "colab_type": "code",
        "outputId": "81729ac0-02a4-4340-dfd3-ee923178c22c",
        "colab": {
          "base_uri": "https://localhost:8080/",
          "height": 34
        }
      },
      "source": [
        "import torch \n",
        "\n",
        "#flag to indicate that we want to use CUDA\n",
        "use_cuda = True \n",
        "\n",
        "#check condition\n",
        "if use_cuda and torch.cuda.is_available():\n",
        "  print \"GPU enabled\"\n",
        "else:\n",
        "  print \"CPU enabled\"\n",
        "  \n",
        "  "
      ],
      "execution_count": 2,
      "outputs": [
        {
          "output_type": "stream",
          "text": [
            "GPU enabled\n"
          ],
          "name": "stdout"
        }
      ]
    },
    {
      "cell_type": "markdown",
      "metadata": {
        "id": "YV42kq1yEh3I",
        "colab_type": "text"
      },
      "source": [
        "### Rutas de trabajo\n",
        "En este script, se utilizarán las siguientes rutas"
      ]
    },
    {
      "cell_type": "code",
      "metadata": {
        "id": "qSZZsS4i_KP1",
        "colab_type": "code",
        "colab": {}
      },
      "source": [
        "tmpdir = '/content/tmp/' #temporal location to download and store the dataset\n",
        "\n",
        "drivedir = '/content/gdrive'\n",
        "pracdir = drivedir + '/My Drive/p1indexacion' #directory for practica 1 indexacion\n",
        "datadir = pracdir + '/data' #directory for storing datasets\n",
        "resudir = pracdir + '/result' #directory to save results"
      ],
      "execution_count": 0,
      "outputs": []
    },
    {
      "cell_type": "markdown",
      "metadata": {
        "id": "9zoOE4V7l5tS",
        "colab_type": "text"
      },
      "source": [
        "### Google Drive\n",
        "\n",
        "Ejecute el siguiente código para enlazar este script con su cuenta de Google Drive. Los datos que se generen aquí se guardarán en su carpeta Drive para posterior uso. Por defecto, la unidad de Google Drive es enlaza con el directorio **/content/gdrive/**."
      ]
    },
    {
      "cell_type": "code",
      "metadata": {
        "id": "YdwRGAHB3nM1",
        "colab_type": "code",
        "outputId": "5ce52d3c-f341-4963-ae65-9acd22f73449",
        "colab": {
          "base_uri": "https://localhost:8080/",
          "height": 326
        }
      },
      "source": [
        "from google.colab import drive\n",
        "drive.mount(drivedir)\n",
        "\n",
        "print 'Google Drive mount completed'\n",
        "\n",
        "#check correct mount of drive directory\n",
        "!df -h"
      ],
      "execution_count": 4,
      "outputs": [
        {
          "output_type": "stream",
          "text": [
            "Go to this URL in a browser: https://accounts.google.com/o/oauth2/auth?client_id=947318989803-6bn6qk8qdgf4n4g3pfee6491hc0brc4i.apps.googleusercontent.com&redirect_uri=urn%3aietf%3awg%3aoauth%3a2.0%3aoob&response_type=code&scope=email%20https%3a%2f%2fwww.googleapis.com%2fauth%2fdocs.test%20https%3a%2f%2fwww.googleapis.com%2fauth%2fdrive%20https%3a%2f%2fwww.googleapis.com%2fauth%2fdrive.photos.readonly%20https%3a%2f%2fwww.googleapis.com%2fauth%2fpeopleapi.readonly\n",
            "\n",
            "Enter your authorization code:\n",
            "··········\n",
            "Mounted at /content/gdrive\n",
            "Google Drive mount completed\n",
            "Filesystem      Size  Used Avail Use% Mounted on\n",
            "overlay          69G   33G   33G  50% /\n",
            "tmpfs            64M     0   64M   0% /dev\n",
            "tmpfs            13G     0   13G   0% /sys/fs/cgroup\n",
            "tmpfs            13G   16K   13G   1% /var/colab\n",
            "/dev/sda1        75G   37G   38G  50% /opt/bin\n",
            "shm              13G  4.0K   13G   1% /dev/shm\n",
            "tmpfs            13G     0   13G   0% /proc/acpi\n",
            "tmpfs            13G     0   13G   0% /proc/scsi\n",
            "tmpfs            13G     0   13G   0% /sys/firmware\n",
            "drive            15G  5.4G  9.7G  36% /content/gdrive\n"
          ],
          "name": "stdout"
        }
      ]
    },
    {
      "cell_type": "markdown",
      "metadata": {
        "id": "74-1H-SB6U_p",
        "colab_type": "text"
      },
      "source": [
        "## Dataset\n",
        "\n",
        "En este ejemplo de entrenamiento, vamos a utilizar el dataset Scenes15"
      ]
    },
    {
      "cell_type": "code",
      "metadata": {
        "id": "fq6c0XQy6d2X",
        "colab_type": "code",
        "outputId": "521e28ab-f637-4f82-e53e-92eebe8b855f",
        "colab": {
          "base_uri": "https://localhost:8080/",
          "height": 272
        }
      },
      "source": [
        "import subprocess\n",
        "import os\n",
        "\n",
        "out=subprocess.call([\"mkdir\",pracdir])#create directory\n",
        "out=subprocess.call([\"mkdir\",datadir])#create directory\n",
        "out=subprocess.call([\"mkdir\",resudir])#create directory\n",
        "\n",
        "os.chdir(datadir) #move to directory\n",
        "\n",
        "#download and unzip the file\n",
        "!wget http://www-vpu.eps.uam.es/~jcs/pub/Scene15.zip -O Scene15.zip\n",
        "!unzip -o -q Scene15.zip -d .\n",
        "\n",
        "print 'Dataset downloaded and unzipped'\n",
        "\n",
        "!ls -lah #show directory & file usage"
      ],
      "execution_count": 5,
      "outputs": [
        {
          "output_type": "stream",
          "text": [
            "--2020-03-28 21:13:22--  http://www-vpu.eps.uam.es/~jcs/pub/Scene15.zip\n",
            "Resolving www-vpu.eps.uam.es (www-vpu.eps.uam.es)... 150.244.57.170\n",
            "Connecting to www-vpu.eps.uam.es (www-vpu.eps.uam.es)|150.244.57.170|:80... connected.\n",
            "HTTP request sent, awaiting response... 200 OK\n",
            "Length: 86395596 (82M) [application/zip]\n",
            "Saving to: ‘Scene15.zip’\n",
            "\n",
            "Scene15.zip         100%[===================>]  82.39M  21.6MB/s    in 9.0s    \n",
            "\n",
            "2020-03-28 21:13:31 (9.17 MB/s) - ‘Scene15.zip’ saved [86395596/86395596]\n",
            "\n",
            "Dataset downloaded and unzipped\n",
            "total 83M\n",
            "drwx------ 4 root root 4.0K Feb 13 20:29 Scene15\n",
            "-rw------- 1 root root  83M Feb 28  2018 Scene15.zip\n"
          ],
          "name": "stdout"
        }
      ]
    },
    {
      "cell_type": "markdown",
      "metadata": {
        "id": "Acnx8c5Q3n4K",
        "colab_type": "text"
      },
      "source": [
        "Parametros para la generación del dataset"
      ]
    },
    {
      "cell_type": "code",
      "metadata": {
        "id": "R6Q0dZw6Hq2E",
        "colab_type": "code",
        "colab": {}
      },
      "source": [
        "import os\n",
        "import torch\n",
        "from torchvision import datasets\n",
        "import torchvision.transforms as transforms\n",
        "\n",
        "\n",
        "#path to the downloaded dataset\n",
        "dataset_dir = datadir + '/Scene15/'\n",
        "\n",
        "\n",
        "#number of samples/images per group\n",
        "batch_size=8\n",
        "\n",
        "input_size=256\n",
        "\n",
        "#data transformation\n",
        "rf=256\n",
        "Resizing_factor = (rf,rf)\n",
        "\n",
        "normalize = transforms.Normalize(mean=[0.5, 0.5, 0.5], std=[0.5, 0.5, 0.5])\n",
        "\n",
        "transform = transforms.Compose([transforms.Resize(256),\n",
        "                                transforms.CenterCrop(224),\n",
        "                                transforms.ToTensor(),\n",
        "                                normalize                              \n",
        "                               ])\n",
        "\n",
        "\n",
        "#list & load images\n",
        "image_datasets = {x: datasets.ImageFolder(os.path.join(dataset_dir, x), transform) for x in ['train', 'val']}\n",
        "class_names = image_datasets['train'].classes\n",
        "\n",
        "#load & convert images to tensors in Python\n",
        "dataloaders = {x: torch.utils.data.DataLoader(image_datasets[x], batch_size, shuffle=True, num_workers=2) for x in ['train', 'val']}\n"
      ],
      "execution_count": 0,
      "outputs": []
    },
    {
      "cell_type": "markdown",
      "metadata": {
        "id": "7QK8uZt7CCRb",
        "colab_type": "text"
      },
      "source": [
        "## Creación de la red\n",
        "\n",
        "A continuación, creamos una red tipo Lenet (modificada para soportar imágenes distintas a 32x32)"
      ]
    },
    {
      "cell_type": "code",
      "metadata": {
        "id": "jU29sUdCyMNS",
        "colab_type": "code",
        "colab": {}
      },
      "source": [
        "#Lenet network\n",
        "#https://github.com/kuangliu/pytorch-cifar/tree/master/models\n",
        "\n",
        "#Extensions\n",
        "#https://discuss.pytorch.org/t/inferring-shape-via-flatten-operator/138/3\n",
        "#https://stackoverflow.com/questions/42479902/how-view-method-works-for-tensor-in-torch\n",
        "\n",
        "import torch.nn as nn\n",
        "import torch.nn.functional as F\n",
        "from torch.autograd import Variable\n",
        "\n",
        "class Net(nn.Module):\n",
        "  \n",
        "    #define the structure of the network\n",
        "    def __init__(self, input_shape=(3, 224, 224),num_outputs=15):\n",
        "        super(Net, self).__init__()\n",
        "        # Convolutional layer - 3 input image channel, 6 output channels, 5x5 square convolution \n",
        "        self.conv1 = nn.Conv2d(in_channels=input_shape[0], out_channels=64, kernel_size=7, stride=1, padding=0)\n",
        "        \n",
        "        # Max pooling over a (2, 2) window\n",
        "        self.pool = nn.MaxPool2d(kernel_size=16, stride=2, padding=0)\n",
        "        \n",
        "        # Convolutional layer - 6 input data channel, 16 output channels, 5x5 square convolution \n",
        "        self.conv2 = nn.Conv2d(in_channels=64, out_channels=64, kernel_size=1) \n",
        "\n",
        "        # Max pooling over a (2, 2) window\n",
        "        self.pool2 = nn.MaxPool2d(kernel_size=16, stride=2, padding=0)    \n",
        "\n",
        "        # Convolutional layer - 6 input data channel, 16 output channels, 5x5 square convolution \n",
        "        self.conv3 = nn.Conv2d(in_channels=64, out_channels=192, kernel_size=3)   \n",
        "\n",
        "        # Max pooling over a (2, 2) window\n",
        "        self.pool3 = nn.MaxPool2d(kernel_size=3, stride=2, padding=0)    \n",
        "\n",
        "        # Convolutional layer - 6 input data channel, 16 output channels, 5x5 square convolution \n",
        "        self.conv4 = nn.Conv2d(in_channels=192, out_channels=250, kernel_size=5)\n",
        "\n",
        "        n_size = self._get_conv_output(input_shape)\n",
        "        \n",
        "        # Fully connected neural network layers       \n",
        "        self.fc1 = nn.Linear(in_features=n_size, out_features=120)\n",
        "        self.fc2 = nn.Linear(in_features=120,    out_features=84)\n",
        "        self.fc3 = nn.Linear(in_features=84,     out_features=num_outputs)\n",
        "\n",
        "    #define how data flows through the network\n",
        "    def forward(self, x):\n",
        "        x = self.pool(F.relu(self.conv1(x)))\n",
        "        x = self.pool2(F.relu(self.conv2(x)))\n",
        "        x = self.pool3(F.relu(self.conv3(x)))\n",
        "        x = self.pool(F.relu(self.conv4(x)))\n",
        "\n",
        "        \n",
        "        #The view function is meant to reshape the tensor (flatten operator).\n",
        "        x = x.view( x.size(0),-1)\n",
        "                \n",
        "        x = F.relu(self.fc1(x))\n",
        "        x = F.relu(self.fc2(x))\n",
        "        x = self.fc3(x)\n",
        "        return x \n",
        "        \n",
        "    def _get_conv_output(self, shape):\n",
        "        bs = 1\n",
        "        x = Variable(torch.rand(bs, *shape))\n",
        "        x = self.pool(F.relu(self.conv1(x)))\n",
        "        x = self.pool2(F.relu(self.conv2(x)))\n",
        "        x = self.pool3(F.relu(self.conv3(x)))\n",
        "\n",
        "        output_feat = self.pool(F.relu(self.conv4(x)))\n",
        "               \n",
        "        n_size = output_feat.data.view(bs, -1).size(1)\n",
        "        return n_size"
      ],
      "execution_count": 0,
      "outputs": []
    },
    {
      "cell_type": "code",
      "metadata": {
        "id": "HWEfU3PqCRCV",
        "colab_type": "code",
        "outputId": "46056861-7cee-4f7b-cdcf-a27338bd3410",
        "colab": {
          "base_uri": "https://localhost:8080/",
          "height": 238
        }
      },
      "source": [
        "import os\n",
        "os.chdir(tmpdir) #move to directory\n",
        "\n",
        "#runs script and keeps variables\n",
        "#%run -i ./utils/mylenet.py\n",
        "\n",
        "# get some random training images to initialize network\n",
        "images, labels = iter(dataloaders['train']).next()\n",
        "\n",
        "net = Net(images[0].size(), num_outputs=len(class_names)) \n",
        "print(net)\n",
        "print \"Network ready!\"\n"
      ],
      "execution_count": 8,
      "outputs": [
        {
          "output_type": "stream",
          "text": [
            "Net(\n",
            "  (conv1): Conv2d(3, 64, kernel_size=(7, 7), stride=(1, 1))\n",
            "  (pool): MaxPool2d(kernel_size=(16, 16), stride=(2, 2), dilation=(1, 1), ceil_mode=False)\n",
            "  (conv2): Conv2d(64, 64, kernel_size=(1, 1), stride=(1, 1))\n",
            "  (pool2): MaxPool2d(kernel_size=(16, 16), stride=(2, 2), dilation=(1, 1), ceil_mode=False)\n",
            "  (conv3): Conv2d(64, 192, kernel_size=(3, 3), stride=(1, 1))\n",
            "  (pool3): MaxPool2d(kernel_size=(3, 3), stride=(2, 2), dilation=(1, 1), ceil_mode=False)\n",
            "  (conv4): Conv2d(192, 250, kernel_size=(5, 5), stride=(1, 1))\n",
            "  (fc1): Linear(in_features=250, out_features=120, bias=True)\n",
            "  (fc2): Linear(in_features=120, out_features=84, bias=True)\n",
            "  (fc3): Linear(in_features=84, out_features=15, bias=True)\n",
            ")\n",
            "Network ready!\n"
          ],
          "name": "stdout"
        }
      ]
    },
    {
      "cell_type": "code",
      "metadata": {
        "id": "5tlChzfGSya5",
        "colab_type": "code",
        "outputId": "e69b7ddb-58a1-4721-9fb9-bfe411e5afe8",
        "colab": {
          "base_uri": "https://localhost:8080/",
          "height": 34
        }
      },
      "source": [
        "if use_cuda and torch.cuda.is_available():\n",
        "  net.cuda()\n",
        "  \n",
        "print \"Network ready to train using CUDA!\""
      ],
      "execution_count": 9,
      "outputs": [
        {
          "output_type": "stream",
          "text": [
            "Network ready to train using CUDA!\n"
          ],
          "name": "stdout"
        }
      ]
    },
    {
      "cell_type": "markdown",
      "metadata": {
        "id": "umau1YMBKeN_",
        "colab_type": "text"
      },
      "source": [
        "## Definir una función de coste/optimizador\n",
        "\n",
        "En este ejemplo utilizamos Cross-Entropy para medir la precisión de nuestro clasificador y SGD como optimizador."
      ]
    },
    {
      "cell_type": "code",
      "metadata": {
        "id": "kQDA6EkKKem_",
        "colab_type": "code",
        "colab": {}
      },
      "source": [
        "import torch.optim as optim\n",
        "import torch.nn as nn\n",
        "from torch.optim.lr_scheduler import LambdaLR\n",
        "import math\n",
        "\n",
        "\n",
        "end_lr = 0.001\n",
        "start_lr = 1\n",
        "lr_epochs = 100\n",
        "\n",
        "criterion = nn.CrossEntropyLoss()\n",
        "\n",
        "optimizer = optim.SGD(net.parameters(), lr=end_lr, momentum=0.9)\n",
        "\n",
        "scheduler = torch.optim.lr_scheduler.StepLR(optimizer, step_size=1, gamma=0.1)"
      ],
      "execution_count": 0,
      "outputs": []
    },
    {
      "cell_type": "markdown",
      "metadata": {
        "id": "GaYSTVfOK1lD",
        "colab_type": "text"
      },
      "source": [
        "## Entrenar la red\n",
        "\n",
        "Ejecución iterativa sobre los datos de entrenamiento/test y actualización de los pesos"
      ]
    },
    {
      "cell_type": "code",
      "metadata": {
        "id": "5jcjp9XGLAeR",
        "colab_type": "code",
        "outputId": "418a8a2f-2588-4745-90e4-a516182dd791",
        "colab": {
          "base_uri": "https://localhost:8080/",
          "height": 1000
        }
      },
      "source": [
        "import time\n",
        "import numpy as np\n",
        "from torch.autograd import Variable\n",
        "\n",
        "display_batch_iter = 100\n",
        "number_epochs = 30\n",
        "\n",
        "\n",
        "epoch_loss =  np.zeros((number_epochs,1))\n",
        "epoch_train_acc =  np.zeros((number_epochs,1))\n",
        "epoch_test_acc =  np.zeros((number_epochs,1))  \n",
        "train_time =  0.0\n",
        "\n",
        "Ntrain = len(image_datasets['train']) #number of samples for training\n",
        "Ntest = len(image_datasets['val']) #number of samples for test/validation\n",
        "    \n",
        "start = time.time()\n",
        "\n",
        "if use_cuda and torch.cuda.is_available():\n",
        "  print('Training in GPUmode #epochs=%d #batches=%d batchsize=%d' % (number_epochs, len(dataloaders['train']),batch_size))\n",
        "else:\n",
        "  print('Training in CPUmode #epochs=%d #batches=%d batchsize=%d' % (number_epochs, len(dataloaders['train']),batch_size))\n",
        "\n",
        "print('**** Printing loss every %5d batches ****' % (display_batch_iter))  \n",
        "for epoch in range(number_epochs):  # loop over the dataset multiple times\n",
        "    running_loss = 0.0\n",
        "\n",
        "    if(epoch+1) % 45 == 0:\n",
        "      # Decay Learning Rate\n",
        "      scheduler.step()\n",
        "      # Print Learning Rate\n",
        "      print('Epoch:', epoch,'LR:', scheduler.get_lr())\n",
        "    for i, data in enumerate(dataloaders['train'], 0):\n",
        "        # get the inputs\n",
        "        inputs, labels = data\n",
        "\n",
        "        # wrap them in Variable\n",
        "        if use_cuda and torch.cuda.is_available():\n",
        "          inputs, labels = Variable(inputs.cuda()), Variable(labels.cuda())\n",
        "        else:\n",
        "          inputs, labels = Variable(inputs), Variable(labels)\n",
        "\n",
        "        # zero the parameter gradients\n",
        "        optimizer.zero_grad()\n",
        "\n",
        "        # forward + backward + optimize\n",
        "        outputs = net(inputs)\n",
        "        loss = criterion(outputs, labels)\n",
        "        loss.backward()\n",
        "        optimizer.step()\n",
        "\n",
        "        # print statistics\n",
        "        running_loss += loss.data[0]\n",
        "        epoch_loss[epoch] += loss.data[0]\n",
        "        if i % display_batch_iter == display_batch_iter-1:    # print every XXX mini-batches\n",
        "            print('[%d, %5d] loss: %.3f' % (epoch + 1, i + 1, running_loss / display_batch_iter))\n",
        "            running_loss = 0.0\n",
        "\n",
        "    # compute accuracy on training set\n",
        "    correct1 = 0.0\n",
        "    for data in dataloaders['train']:    \n",
        "      images, labels = data\n",
        "      if use_cuda and torch.cuda.is_available():\n",
        "        outputs = net(Variable(images.cuda()))\n",
        "      else:\n",
        "        outputs = net(Variable(images))\n",
        "      _, predicted = torch.max(outputs.data, 1)\n",
        "      if use_cuda and torch.cuda.is_available():\n",
        "        correct1 += (predicted == labels.cuda()).sum()\n",
        "      else:\n",
        "        correct1 += (predicted == labels).sum()      \n",
        "      \n",
        "    # compute accuracy on test set\n",
        "    correct2 = 0.0\n",
        "    for data in dataloaders['val']:    \n",
        "      images, labels = data\n",
        "      if use_cuda and torch.cuda.is_available():\n",
        "        outputs = net(Variable(images.cuda()))\n",
        "      else:\n",
        "        outputs = net(Variable(images))\n",
        "      _, predicted = torch.max(outputs.data, 1)\n",
        "      if use_cuda and torch.cuda.is_available():\n",
        "        correct2 += (predicted == labels.cuda()).sum()\n",
        "      else:\n",
        "        correct2 += (predicted == labels).sum()\n",
        "    \n",
        "    epoch_loss[epoch] = epoch_loss[epoch] / len(dataloaders['train']) # average loss for each epoch\n",
        "    epoch_train_acc[epoch] =  100 * correct1 / Ntrain   # average train accuracy for each epoch\n",
        "    epoch_test_acc[epoch]  =  100 * correct2 / Ntest    # average test accuracy for each epoch\n",
        "    print('Epoch %02d, loss: %1.3f, accuracy train: %2.3f %% (correct %04d total %04d ) accuracy test: %2.3f %% (correct %04d total %04d )' % (epoch + 1, epoch_loss[epoch], epoch_train_acc[epoch], correct1, Ntrain, epoch_test_acc[epoch], correct2, Ntest ))\n",
        "    \n",
        "train_time = time.time() - start\n",
        "print('Finished Training (' + str(train_time) + ' secs)')"
      ],
      "execution_count": 11,
      "outputs": [
        {
          "output_type": "stream",
          "text": [
            "Training in GPUmode #epochs=30 #batches=188 batchsize=8\n",
            "**** Printing loss every   100 batches ****\n",
            "[1,   100] loss: 2.710\n",
            "Epoch 01, loss: 2.710, accuracy train: 6.667 % (correct 0100 total 1500 ) accuracy test: 10.279 % (correct 0310 total 3016 )\n",
            "[2,   100] loss: 2.706\n",
            "Epoch 02, loss: 2.709, accuracy train: 6.667 % (correct 0100 total 1500 ) accuracy test: 10.279 % (correct 0310 total 3016 )\n",
            "[3,   100] loss: 2.705\n",
            "Epoch 03, loss: 2.707, accuracy train: 6.667 % (correct 0100 total 1500 ) accuracy test: 10.279 % (correct 0310 total 3016 )\n",
            "[4,   100] loss: 2.707\n",
            "Epoch 04, loss: 2.706, accuracy train: 9.800 % (correct 0147 total 1500 ) accuracy test: 12.997 % (correct 0392 total 3016 )\n",
            "[5,   100] loss: 2.705\n",
            "Epoch 05, loss: 2.704, accuracy train: 11.067 % (correct 0166 total 1500 ) accuracy test: 14.290 % (correct 0431 total 3016 )\n",
            "[6,   100] loss: 2.701\n",
            "Epoch 06, loss: 2.701, accuracy train: 11.667 % (correct 0175 total 1500 ) accuracy test: 14.290 % (correct 0431 total 3016 )\n",
            "[7,   100] loss: 2.699\n",
            "Epoch 07, loss: 2.697, accuracy train: 11.933 % (correct 0179 total 1500 ) accuracy test: 14.721 % (correct 0444 total 3016 )\n",
            "[8,   100] loss: 2.690\n",
            "Epoch 08, loss: 2.689, accuracy train: 12.267 % (correct 0184 total 1500 ) accuracy test: 13.229 % (correct 0399 total 3016 )\n",
            "[9,   100] loss: 2.671\n",
            "Epoch 09, loss: 2.665, accuracy train: 16.600 % (correct 0249 total 1500 ) accuracy test: 13.196 % (correct 0398 total 3016 )\n",
            "[10,   100] loss: 2.604\n",
            "Epoch 10, loss: 2.561, accuracy train: 16.000 % (correct 0240 total 1500 ) accuracy test: 13.362 % (correct 0403 total 3016 )\n",
            "[11,   100] loss: 2.408\n",
            "Epoch 11, loss: 2.365, accuracy train: 16.933 % (correct 0254 total 1500 ) accuracy test: 16.081 % (correct 0485 total 3016 )\n",
            "[12,   100] loss: 2.242\n",
            "Epoch 12, loss: 2.238, accuracy train: 16.067 % (correct 0241 total 1500 ) accuracy test: 15.418 % (correct 0465 total 3016 )\n",
            "[13,   100] loss: 2.138\n",
            "Epoch 13, loss: 2.146, accuracy train: 22.933 % (correct 0344 total 1500 ) accuracy test: 21.950 % (correct 0662 total 3016 )\n",
            "[14,   100] loss: 2.094\n",
            "Epoch 14, loss: 2.087, accuracy train: 22.600 % (correct 0339 total 1500 ) accuracy test: 22.149 % (correct 0668 total 3016 )\n",
            "[15,   100] loss: 2.039\n",
            "Epoch 15, loss: 2.018, accuracy train: 29.067 % (correct 0436 total 1500 ) accuracy test: 24.204 % (correct 0730 total 3016 )\n",
            "[16,   100] loss: 2.011\n",
            "Epoch 16, loss: 1.975, accuracy train: 22.533 % (correct 0338 total 1500 ) accuracy test: 22.414 % (correct 0676 total 3016 )\n",
            "[17,   100] loss: 1.936\n",
            "Epoch 17, loss: 1.930, accuracy train: 25.667 % (correct 0385 total 1500 ) accuracy test: 21.519 % (correct 0649 total 3016 )\n",
            "[18,   100] loss: 1.837\n",
            "Epoch 18, loss: 1.888, accuracy train: 33.800 % (correct 0507 total 1500 ) accuracy test: 30.239 % (correct 0912 total 3016 )\n",
            "[19,   100] loss: 1.834\n",
            "Epoch 19, loss: 1.858, accuracy train: 24.933 % (correct 0374 total 1500 ) accuracy test: 21.983 % (correct 0663 total 3016 )\n",
            "[20,   100] loss: 1.786\n",
            "Epoch 20, loss: 1.801, accuracy train: 36.867 % (correct 0553 total 1500 ) accuracy test: 33.521 % (correct 1011 total 3016 )\n",
            "[21,   100] loss: 1.738\n",
            "Epoch 21, loss: 1.744, accuracy train: 37.333 % (correct 0560 total 1500 ) accuracy test: 33.355 % (correct 1006 total 3016 )\n",
            "[22,   100] loss: 1.710\n",
            "Epoch 22, loss: 1.695, accuracy train: 30.000 % (correct 0450 total 1500 ) accuracy test: 28.946 % (correct 0873 total 3016 )\n",
            "[23,   100] loss: 1.682\n",
            "Epoch 23, loss: 1.660, accuracy train: 35.600 % (correct 0534 total 1500 ) accuracy test: 31.698 % (correct 0956 total 3016 )\n",
            "[24,   100] loss: 1.635\n",
            "Epoch 24, loss: 1.648, accuracy train: 41.800 % (correct 0627 total 1500 ) accuracy test: 36.870 % (correct 1112 total 3016 )\n",
            "[25,   100] loss: 1.634\n",
            "Epoch 25, loss: 1.634, accuracy train: 37.333 % (correct 0560 total 1500 ) accuracy test: 37.666 % (correct 1136 total 3016 )\n",
            "[26,   100] loss: 1.580\n",
            "Epoch 26, loss: 1.579, accuracy train: 45.600 % (correct 0684 total 1500 ) accuracy test: 41.844 % (correct 1262 total 3016 )\n",
            "[27,   100] loss: 1.494\n",
            "Epoch 27, loss: 1.513, accuracy train: 43.467 % (correct 0652 total 1500 ) accuracy test: 40.550 % (correct 1223 total 3016 )\n",
            "[28,   100] loss: 1.464\n",
            "Epoch 28, loss: 1.538, accuracy train: 46.867 % (correct 0703 total 1500 ) accuracy test: 44.529 % (correct 1343 total 3016 )\n",
            "[29,   100] loss: 1.495\n",
            "Epoch 29, loss: 1.457, accuracy train: 38.867 % (correct 0583 total 1500 ) accuracy test: 38.793 % (correct 1170 total 3016 )\n",
            "[30,   100] loss: 1.513\n",
            "Epoch 30, loss: 1.473, accuracy train: 48.467 % (correct 0727 total 1500 ) accuracy test: 42.241 % (correct 1274 total 3016 )\n",
            "Finished Training (590.377885103 secs)\n"
          ],
          "name": "stdout"
        }
      ]
    },
    {
      "cell_type": "markdown",
      "metadata": {
        "id": "84AJx1XzjfRm",
        "colab_type": "text"
      },
      "source": [
        "Finalmente podemos guardar los datos tras el entrenamiento"
      ]
    },
    {
      "cell_type": "code",
      "metadata": {
        "id": "GRv6KngBjkha",
        "colab_type": "code",
        "outputId": "2fd12cfc-a3d3-47e1-dae7-ab317da190d9",
        "colab": {
          "base_uri": "https://localhost:8080/",
          "height": 34
        }
      },
      "source": [
        "#save results in a single file\n",
        "import pickle\n",
        "import os\n",
        "import subprocess\n",
        "\n",
        "out=subprocess.call([\"mkdir\",resudir])#create directory\n",
        "os.chdir(resudir) #move to drive directory\n",
        "\n",
        "# Saving the objects:\n",
        "f = open('training_baseline_cuda_results_epochs_' + 'mylenet_4_layers' + '.pkl', 'wb')\n",
        "pickle.dump([epoch_train_acc, epoch_test_acc, epoch_loss, train_time, number_epochs, batch_size], f)\n",
        "f.close()\n",
        "print('Saved data')"
      ],
      "execution_count": 12,
      "outputs": [
        {
          "output_type": "stream",
          "text": [
            "Saved data\n"
          ],
          "name": "stdout"
        }
      ]
    },
    {
      "cell_type": "markdown",
      "metadata": {
        "id": "rPObxyZU89Jl",
        "colab_type": "text"
      },
      "source": [
        "Posteriormente, si quisieramos recuperar las variables/objetos para analizar, utilizaremos el siguiente código"
      ]
    },
    {
      "cell_type": "code",
      "metadata": {
        "id": "NqdVEHkX880s",
        "colab_type": "code",
        "colab": {}
      },
      "source": [
        "#get results from a single file\n",
        "import pickle\n",
        "import os\n",
        "os.chdir(resudir) #move to drive directory\n",
        "\n",
        "# Load the objects\n",
        "f = open('training_baseline_cuda_results_epochs_mylenet_4_layers.pkl', 'rb')\n",
        "epoch_train_acc, epoch_test_acc, epoch_loss, train_time, number_epochs, batch_size = pickle.load(f)"
      ],
      "execution_count": 0,
      "outputs": []
    },
    {
      "cell_type": "markdown",
      "metadata": {
        "id": "WIpYsUwtmk9v",
        "colab_type": "text"
      },
      "source": [
        "## Resultados tras entrenamiento \n",
        "\n"
      ]
    },
    {
      "cell_type": "markdown",
      "metadata": {
        "id": "E2kqMm6FmuMT",
        "colab_type": "text"
      },
      "source": [
        "### Análisis de precisión y función de pérdidas\n",
        "A continuación pintamos las variables que hemos acumulado durante el entrenamiento."
      ]
    },
    {
      "cell_type": "code",
      "metadata": {
        "id": "6vlAL68xjl1-",
        "colab_type": "code",
        "outputId": "be975ed6-3d30-4395-83ad-7cafaaf5f947",
        "colab": {
          "base_uri": "https://localhost:8080/",
          "height": 295
        }
      },
      "source": [
        "import matplotlib.pyplot as plt\n",
        "\n",
        "t = range(number_epochs)\n",
        "lineObjects =plt.plot(t,epoch_train_acc,'r--',t,epoch_test_acc,'bs')\n",
        "plt.legend(lineObjects, ('train', 'test'))\n",
        "plt.ylabel('Accuracy (%)')\n",
        "plt.xlabel('Epoch')\n",
        "plt.title('Accuracy results')\n",
        "\n",
        "import os\n",
        "os.chdir(resudir) #move to drive directory for saving data\n",
        "\n",
        "plt.savefig('training_accuracy_baseline__epochs_'+ 'mylenet_4_layers' '_GPU.png',bbox_inches='tight')#call this function before \"plt.show()\"\n",
        "plt.show()"
      ],
      "execution_count": 14,
      "outputs": [
        {
          "output_type": "display_data",
          "data": {
            "image/png": "[encoded data removed]",
            "text/plain": [
              "<Figure size 432x288 with 1 Axes>"
            ]
          },
          "metadata": {
            "tags": []
          }
        }
      ]
    },
    {
      "cell_type": "code",
      "metadata": {
        "id": "AlaiffYgmOok",
        "colab_type": "code",
        "outputId": "2d77bcb4-ee3a-4876-e014-2c40ab8c2f03",
        "colab": {
          "base_uri": "https://localhost:8080/",
          "height": 295
        }
      },
      "source": [
        "import matplotlib.pyplot as plt\n",
        "\n",
        "import os\n",
        "os.chdir(resudir) #move to drive directory for saving data\n",
        "\n",
        "t = range(number_epochs)\n",
        "plt.plot(t,epoch_loss,'r--')\n",
        "plt.ylabel('Loss')\n",
        "plt.xlabel('Epoch')\n",
        "plt.title('Epoch loss for training') \n",
        "plt.show()"
      ],
      "execution_count": 15,
      "outputs": [
        {
          "output_type": "display_data",
          "data": {
            "image/png": "[encoded data removed]",
            "text/plain": [
              "<Figure size 432x288 with 1 Axes>"
            ]
          },
          "metadata": {
            "tags": []
          }
        }
      ]
    },
    {
      "cell_type": "markdown",
      "metadata": {
        "id": "evgVriqsXN7Q",
        "colab_type": "text"
      },
      "source": [
        "### Ejemplos de resultado\n",
        "\n",
        "Es recomendable repasar los resultados obtenidos tanto gráficamente como estadísticamente.\n",
        "\n",
        "Primero, seleccionamos algunos datos y visualmente verificamos errores:\n"
      ]
    },
    {
      "cell_type": "code",
      "metadata": {
        "id": "79GFRR-XQjdc",
        "colab_type": "code",
        "outputId": "62b1d5b7-45f2-4130-c566-e6298174195b",
        "colab": {
          "base_uri": "https://localhost:8080/",
          "height": 128
        }
      },
      "source": [
        "import torchvision\n",
        "\n",
        "# function to show an image\n",
        "def imshow(img):\n",
        "    #img = img / 2 + 0.5  # unnormalize if normalization is done in transform\n",
        "    npimg = img.numpy()\n",
        "    plt.imshow(np.transpose(npimg, (1, 2, 0)))\n",
        "    \n",
        "#get sample data\n",
        "images, labels = iter(dataloaders['val']).next()\n",
        "   \n",
        "# print images\n",
        "imshow(torchvision.utils.make_grid(images))\n",
        "print('GroundTruth: ', ' '.join('%5s' % class_names[labels[j]] for j in range(batch_size)))\n",
        "\n",
        "outputs = net(Variable(images.cuda()))\n",
        "_, predicted = torch.max(outputs.data, 1)\n",
        "\n",
        "print('Predicted: ', ' '.join('%5s' % class_names[predicted[j]] for j in range(batch_size)))"
      ],
      "execution_count": 16,
      "outputs": [
        {
          "output_type": "stream",
          "text": [
            "('GroundTruth: ', 'Coast Coast LivingRoom Industrial InsideCity Coast Street TallBuilding')\n",
            "('Predicted: ', 'Coast Coast Bedroom Industrial Store Coast Street Industrial')\n"
          ],
          "name": "stdout"
        },
        {
          "output_type": "display_data",
          "data": {
            "image/png": "[encoded data removed]",
            "text/plain": [
              "<Figure size 432x288 with 1 Axes>"
            ]
          },
          "metadata": {
            "tags": []
          }
        }
      ]
    },
    {
      "cell_type": "markdown",
      "metadata": {
        "id": "h7fYSZtMXdY-",
        "colab_type": "text"
      },
      "source": [
        "Posteriormente estudiamos los resultados para cada clase"
      ]
    },
    {
      "cell_type": "code",
      "metadata": {
        "id": "Z6Qgu3X0QtIL",
        "colab_type": "code",
        "outputId": "1d1a6e0a-8c91-46f6-9d70-55ad64c18400",
        "colab": {
          "base_uri": "https://localhost:8080/",
          "height": 289
        }
      },
      "source": [
        "class_correct = list(0. for i in range(len(class_names)))\n",
        "class_total = list(0. for i in range(len(class_names)))\n",
        "for data in dataloaders['val']:\n",
        "    images, labels = data\n",
        "    outputs = net(Variable(images.cuda()))\n",
        "    _, predicted = torch.max(outputs.data, 1)\n",
        "    c = (predicted == labels.cuda()).squeeze()\n",
        "    for i in range(len(labels)):\n",
        "        label = labels[i]\n",
        "        class_correct[label] += c[i]\n",
        "        class_total[label] += 1\n",
        "\n",
        "class_totalT = 0\n",
        "for i in range(len(class_names)):\n",
        "    print('Accuracy of %5s : %2d %%' % (class_names[i], 100 * class_correct[i] / class_total[i]))\n",
        "    class_totalT += class_total[i]\n",
        "print('Total test data = %d images' % (class_totalT))"
      ],
      "execution_count": 17,
      "outputs": [
        {
          "output_type": "stream",
          "text": [
            "Accuracy of Bedroom : 41 %\n",
            "Accuracy of Coast : 50 %\n",
            "Accuracy of Forest : 53 %\n",
            "Accuracy of Highway : 67 %\n",
            "Accuracy of Industrial : 28 %\n",
            "Accuracy of InsideCity : 32 %\n",
            "Accuracy of Kitchen : 13 %\n",
            "Accuracy of LivingRoom : 12 %\n",
            "Accuracy of Mountain : 18 %\n",
            "Accuracy of Office : 68 %\n",
            "Accuracy of OpenCountry : 42 %\n",
            "Accuracy of Store : 55 %\n",
            "Accuracy of Street : 46 %\n",
            "Accuracy of Suburb : 68 %\n",
            "Accuracy of TallBuilding : 46 %\n",
            "Total test data = 3016 images\n"
          ],
          "name": "stdout"
        }
      ]
    }
  ]
}